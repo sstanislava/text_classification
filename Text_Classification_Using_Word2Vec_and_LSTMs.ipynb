{
 "cells": [
  {
   "cell_type": "markdown",
   "metadata": {
    "id": "65LuGjqVyO62"
   },
   "source": [
    "**Sentiment classification** is the automated process of identifying opinions in text and labeling them as positive, negative, or neutral, based on the emotions customers express within them.\n"
   ]
  },
  {
   "cell_type": "markdown",
   "metadata": {
    "id": "U2dGOJ-gyO6_"
   },
   "source": [
    "**Transfer learning** is a machine learning method where a model developed for a task is reused as the starting point for a model on a second task!\n",
    "\n",
    "**Word Embeddings** Word embeddings are a type of word representation that look at the context of words which allows words with similar meaning to have a similar vector representation.\n",
    "\n",
    "\n",
    "1. Each word is represented as  a vector.\n",
    "\n",
    "2. Each word is mapped to one vector and the vector values are learned in a way that resembles a neural network.\n",
    "\n",
    "3. They can be considered an improvement over sparse representations used in simpler bag of word model representations.\n",
    "\n",
    "FYI - A very common feature extraction procedures for sentences and documents is the bag-of-words approach (BOW). In this approach, we look at the histogram of the words within the text, i.e. considering each word count as a feature.\n",
    "\n",
    "— Page 69, Neural Network Methods in Natural Language Processing, 2017\n",
    "\n",
    "**Word2Vec**\n",
    "\n",
    "Word2Vec is a shallow, two-layer neural networks which is trained to reconstruct linguistic contexts of words.\n",
    "Input: Large Corpus of words\n",
    "Output: Vector Space, with each unique word in the corpus being assigned a corresponding vector in the space.\n",
    "\n",
    "\n",
    "Word vectors are positioned in the vector space such that words that share common contexts in the corpus are located in close proximity to one another in the space.\n",
    "\n",
    "\n",
    "**Deep Network** Deep network takes the sequence of embedding vectors as input and converts them to a compressed representation. The compressed representation effectively captures all the information in the sequence of words in the text. The deep network part is usually an RNN or some forms of it like LSTM/GRU. The dropout is added to overcome the tendency to overfit, a very common problem with RNN based networks.\n",
    "\n",
    "**Recurrent Neural Networks** Recurrent Neural Networks are used to handle sequential data. One of the appeals of RNNs is the idea that they might be able to connect previous information to the present task, such as using previous video frames/words might inform the understanding of the present frame/words. \n",
    "\n",
    "\n",
    "Sometimes, we only need to look at recent information to perform the present task. But unfortunately, as that gap grows, RNNs become unable to learn to connect the information.\n",
    "\n",
    "Standard RNNs fail to learn in the presence of time lags greater than 5 – 10 discrete time steps between relevant input events and target signals. The vanishing error problem casts doubt on whether standard RNNs can indeed exhibit significant practical advantages over time window-based feedforward networks. A recent model, “Long Short-Term Memory” (LSTM), is not affected by this problem. LSTM can learn to bridge minimal time lags in excess of 1000 discrete time steps by enforcing constant error flow through “constant error carrousels” (CECs) within special units, called cells\n",
    "\n",
    "**LSTM** Long Short Term Memory networks – usually just called “LSTMs” – are a special kind of RNN, capable of learning long-term dependencies. LSTMs are explicitly designed to avoid the long-term dependency problem. Remembering information for long periods of time is practically their default behavior, not something they struggle to learn!\n"
   ]
  },
  {
   "cell_type": "markdown",
   "metadata": {},
   "source": [
    "IMDB dataset: https://www.tensorflow.org/datasets/catalog/imdb_reviews"
   ]
  },
  {
   "cell_type": "code",
   "execution_count": null,
   "metadata": {
    "colab": {
     "base_uri": "https://localhost:8080/"
    },
    "id": "Lmj6_HZ8yO7A",
    "outputId": "3c113dd3-0613-4b83-d2b5-afd9c1d98409"
   },
   "outputs": [
    {
     "name": "stdout",
     "output_type": "stream",
     "text": [
      "[nltk_data] Downloading package stopwords to /root/nltk_data...\n",
      "[nltk_data]   Package stopwords is already up-to-date!\n",
      "[nltk_data] Downloading package punkt to /root/nltk_data...\n",
      "[nltk_data]   Package punkt is already up-to-date!\n"
     ]
    },
    {
     "data": {
      "text/plain": [
       "True"
      ]
     },
     "execution_count": 5,
     "metadata": {
      "tags": []
     },
     "output_type": "execute_result"
    }
   ],
   "source": [
    "import matplotlib.pyplot as plt\n",
    "import pandas as pd\n",
    "import os\n",
    "import numpy as np\n",
    "import nltk\n",
    "import string\n",
    "from gensim.models import Word2Vec\n",
    "from nltk.tokenize import word_tokenize\n",
    "from nltk.corpus import stopwords\n",
    "nltk.download('stopwords')\n",
    "nltk.download('punkt')"
   ]
  },
  {
   "cell_type": "markdown",
   "metadata": {
    "id": "SIHQbJ3CyO7C"
   },
   "source": [
    "## Loading Data "
   ]
  },
  {
   "cell_type": "code",
   "execution_count": null,
   "metadata": {
    "colab": {
     "base_uri": "https://localhost:8080/",
     "height": 204
    },
    "id": "BaMm1x_tyO7E",
    "outputId": "fa761dd1-a9de-41c0-fdb4-8475efc5827d"
   },
   "outputs": [
    {
     "data": {
      "text/html": [
       "<div>\n",
       "<style scoped>\n",
       "    .dataframe tbody tr th:only-of-type {\n",
       "        vertical-align: middle;\n",
       "    }\n",
       "\n",
       "    .dataframe tbody tr th {\n",
       "        vertical-align: top;\n",
       "    }\n",
       "\n",
       "    .dataframe thead th {\n",
       "        text-align: right;\n",
       "    }\n",
       "</style>\n",
       "<table border=\"1\" class=\"dataframe\">\n",
       "  <thead>\n",
       "    <tr style=\"text-align: right;\">\n",
       "      <th></th>\n",
       "      <th>review</th>\n",
       "      <th>sentiment</th>\n",
       "    </tr>\n",
       "  </thead>\n",
       "  <tbody>\n",
       "    <tr>\n",
       "      <th>0</th>\n",
       "      <td>I went and saw this movie last night after bei...</td>\n",
       "      <td>1</td>\n",
       "    </tr>\n",
       "    <tr>\n",
       "      <th>1</th>\n",
       "      <td>Actor turned director Bill Paxton follows up h...</td>\n",
       "      <td>1</td>\n",
       "    </tr>\n",
       "    <tr>\n",
       "      <th>2</th>\n",
       "      <td>As a recreational golfer with some knowledge o...</td>\n",
       "      <td>1</td>\n",
       "    </tr>\n",
       "    <tr>\n",
       "      <th>3</th>\n",
       "      <td>I saw this film in a sneak preview, and it is ...</td>\n",
       "      <td>1</td>\n",
       "    </tr>\n",
       "    <tr>\n",
       "      <th>4</th>\n",
       "      <td>Bill Paxton has taken the true story of the 19...</td>\n",
       "      <td>1</td>\n",
       "    </tr>\n",
       "  </tbody>\n",
       "</table>\n",
       "</div>"
      ],
      "text/plain": [
       "                                              review  sentiment\n",
       "0  I went and saw this movie last night after bei...          1\n",
       "1  Actor turned director Bill Paxton follows up h...          1\n",
       "2  As a recreational golfer with some knowledge o...          1\n",
       "3  I saw this film in a sneak preview, and it is ...          1\n",
       "4  Bill Paxton has taken the true story of the 19...          1"
      ]
     },
     "execution_count": 9,
     "metadata": {
      "tags": []
     },
     "output_type": "execute_result"
    }
   ],
   "source": [
    "df = pd.read_csv(\"IMDB_movie_reviews.csv\", encoding='utf-8')\n",
    "df.head(5)"
   ]
  },
  {
   "cell_type": "markdown",
   "metadata": {
    "id": "9exPr1isyO7F"
   },
   "source": [
    "\n",
    "# Data Preprocessing\n",
    "\n",
    "1. **Tokenization** is a way of separating a piece of text into smaller units called tokens. Here, tokens can be either words, characters, or subwords.\n",
    "\n",
    "2. Removing **Punctuations**\n",
    "\n",
    "3. Removing tokens which are not alphabetic\n",
    "\n",
    "4. **Stopwords Removal**: A stop word is a commonly used word (such as “the”, “a”, “an”, “in”) \n",
    "\n",
    "\n"
   ]
  },
  {
   "cell_type": "code",
   "execution_count": null,
   "metadata": {
    "id": "8qkeUDsxyO7G"
   },
   "outputs": [],
   "source": [
    "import string\n",
    "from nltk.tokenize import word_tokenize\n",
    "from nltk.corpus import stopwords\n",
    "\n",
    "reviews_lines = list()\n",
    "\n",
    "lines = df['review'].values.tolist()\n",
    "\n",
    "for line in lines:\n",
    "  tokens = word_tokenize(line)\n",
    "  tokens = [word.lower() for word in tokens]\n",
    "  table = str.maketrans('', '', string.punctuation) # remove punctuations\n",
    "\n",
    "  stripped = [w.translate(table) for w in tokens]\n",
    "  # remove non aplahabetical tokens:\n",
    "  words = [word for word in stripped if word.isalpha()]\n",
    "\n",
    "  # filter out stop words:\n",
    "  stop_words = set(stopwords.words('english')) \n",
    "  #use all stop words from nltk corpus\n",
    "  #if the word is not in stop_words consider it\n",
    "  words = [w for w in words if not w in stop_words]\n",
    "  # list of tokens\n",
    "  reviews_lines.append(words)\n",
    "  # multiple list of tokens, where each list is corresponding to a sentence"
   ]
  },
  {
   "cell_type": "markdown",
   "metadata": {
    "id": "CVmxaNygyO7H"
   },
   "source": [
    "**Word2Vec** is a simple Neural Network with one hidden layer & has weights and during training, its goal is to adjust those weights to reduce the loss function.\n",
    "\n",
    "During the training, weights are adjusted through back-propagation. Once the training is completed, instead of taking the entire model, we just take the **hidden weights** which are our word embeddings.\n",
    "\n",
    "Word vectors are positioned in the vector space such that words that share common contexts in the corpus are located in close proximity to one another in the space.\n",
    "\n",
    "Gensim is an Open Source Python Library which can be used to implement Word2Vec."
   ]
  },
  {
   "cell_type": "code",
   "execution_count": null,
   "metadata": {
    "colab": {
     "base_uri": "https://localhost:8080/"
    },
    "id": "J_lkTcjvyO7H",
    "outputId": "c7a5a4d6-7a7b-415d-ec61-5557c085cfd6"
   },
   "outputs": [
    {
     "name": "stdout",
     "output_type": "stream",
     "text": [
      "Vocabulary size: %d 134156\n"
     ]
    }
   ],
   "source": [
    "import gensim\n",
    "\n",
    "EMBEDDING_DIM = 100\n",
    "#window=5 how many words it looks to predict the next word\n",
    "#min_count =1 , means any word with less that 1 frequency will be dropped\n",
    "#gensim uses continuous bag of words , if nothing is specified\n",
    "\n",
    "model = gensim.models.Word2Vec(sentences=reviews_lines, size=EMBEDDING_DIM, \\\n",
    "                               window=5, min_count=1)\n",
    "# look ta the vocabulary size:\n",
    "words = list(model.wv.vocab)\n",
    "\n",
    "print(\"Vocabulary size: %d\",  len(words) )"
   ]
  },
  {
   "cell_type": "markdown",
   "metadata": {
    "id": "D9gZwHw_yO7I"
   },
   "source": [
    "**Saving** the word2vec model in ASCII (word2vec) format"
   ]
  },
  {
   "cell_type": "code",
   "execution_count": null,
   "metadata": {
    "colab": {
     "base_uri": "https://localhost:8080/"
    },
    "id": "CCPY3eP2yO7I",
    "outputId": "9ad32220-2309-46e5-f2cf-92547194c125"
   },
   "outputs": [
    {
     "data": {
      "text/plain": [
       "<gensim.models.keyedvectors.Vocab at 0x7f4df5f3f990>"
      ]
     },
     "execution_count": 27,
     "metadata": {
      "tags": []
     },
     "output_type": "execute_result"
    }
   ],
   "source": [
    "model.wv.vocab['garbage']"
   ]
  },
  {
   "cell_type": "markdown",
   "metadata": {
    "id": "G74BcEtmyO7J"
   },
   "source": [
    "Lets test our Word2Vec Model to see how it performs using utility functions provided in Gensim"
   ]
  },
  {
   "cell_type": "code",
   "execution_count": null,
   "metadata": {
    "colab": {
     "base_uri": "https://localhost:8080/"
    },
    "id": "bJYICQBCyO7J",
    "outputId": "222363b2-0f31-4288-cd37-76252ff35bb3"
   },
   "outputs": [
    {
     "data": {
      "text/plain": [
       "[('filmmaker', 0.7155443429946899),\n",
       " ('writerdirector', 0.655202329158783),\n",
       " ('altman', 0.6380494832992554),\n",
       " ('directors', 0.6370048522949219),\n",
       " ('screenwriter', 0.6078441739082336),\n",
       " ('harlin', 0.6026256084442139),\n",
       " ('directorial', 0.5954552292823792),\n",
       " ('filmmakers', 0.59075927734375),\n",
       " ('lumet', 0.5735146999359131),\n",
       " ('soderbergh', 0.5678800940513611)]"
      ]
     },
     "execution_count": 20,
     "metadata": {
      "tags": []
     },
     "output_type": "execute_result"
    }
   ],
   "source": [
    "model.wv.most_similar(\"director\")"
   ]
  },
  {
   "cell_type": "code",
   "execution_count": null,
   "metadata": {
    "colab": {
     "base_uri": "https://localhost:8080/"
    },
    "id": "AeWiiMDQyO7K",
    "outputId": "3eb01241-730f-47b6-8ee6-e4d9b357ca0b"
   },
   "outputs": [
    {
     "data": {
      "text/plain": [
       "[('protagonist', 0.7001582384109497),\n",
       " ('attraction', 0.6926031112670898),\n",
       " ('sexually', 0.6880298256874084),\n",
       " ('nurse', 0.6755688190460205),\n",
       " ('girl', 0.6682547330856323),\n",
       " ('passionate', 0.6615655422210693),\n",
       " ('vulnerable', 0.6604877710342407),\n",
       " ('damsel', 0.6604134440422058),\n",
       " ('seductive', 0.6579244136810303),\n",
       " ('stepmother', 0.6578255295753479)]"
      ]
     },
     "execution_count": 21,
     "metadata": {
      "tags": []
     },
     "output_type": "execute_result"
    }
   ],
   "source": [
    "# check potivive words (couple of words) and a negative word\n",
    "model.wv.most_similar(positive=['actress', 'heroine'], negative=['actor'])"
   ]
  },
  {
   "cell_type": "markdown",
   "metadata": {
    "id": "7RXXd0SnyO7J"
   },
   "source": [
    "Let’s see the result of semantically reasonable word vectors (actress - actor + heroine)\n"
   ]
  },
  {
   "cell_type": "markdown",
   "metadata": {
    "id": "_1ZrwP5vyO7K"
   },
   "source": [
    "**Odd One out** - Finding the odd word out of the given list of words"
   ]
  },
  {
   "cell_type": "code",
   "execution_count": null,
   "metadata": {
    "colab": {
     "base_uri": "https://localhost:8080/"
    },
    "id": "7_uiTyBOyO7K",
    "outputId": "c356304c-e13d-4e15-c96a-a2ffe805b9d0"
   },
   "outputs": [
    {
     "name": "stdout",
     "output_type": "stream",
     "text": [
      "tea\n"
     ]
    },
    {
     "name": "stderr",
     "output_type": "stream",
     "text": [
      "/usr/local/lib/python3.7/dist-packages/gensim/models/keyedvectors.py:895: FutureWarning: arrays to stack must be passed as a \"sequence\" type such as list or tuple. Support for non-sequence iterables such as generators is deprecated as of NumPy 1.16 and will raise an error in the future.\n",
      "  vectors = vstack(self.word_vec(word, use_norm=True) for word in used_words).astype(REAL)\n"
     ]
    }
   ],
   "source": [
    "print(model.wv.doesnt_match(\"film movie theater tea\".split()))\n"
   ]
  },
  {
   "cell_type": "markdown",
   "metadata": {
    "id": "t6GUmNu_yO7L"
   },
   "source": [
    "## Save model in ASCII (word2vec) format"
   ]
  },
  {
   "cell_type": "code",
   "execution_count": null,
   "metadata": {
    "id": "wMTQ3datyO7L"
   },
   "outputs": [],
   "source": [
    "filename=\"imdb_embedding_word2vec.txt\"\n",
    "model.wv.save_word2vec_format(filename, binary=False)"
   ]
  },
  {
   "cell_type": "markdown",
   "metadata": {
    "id": "1NfzM1kvyO7L"
   },
   "source": [
    "## Load the embeddings from the file into a dictionary"
   ]
  },
  {
   "cell_type": "code",
   "execution_count": null,
   "metadata": {
    "id": "oXnJOxYryO7L"
   },
   "outputs": [],
   "source": [
    "import os\n",
    "embeddings_index = {}\n",
    "f=open('imdb_embedding_word2vec.txt', encoding='utf-8')\n",
    "\n",
    "for line in f:\n",
    "    values = line.split()\n",
    "    # first index is word folloowed by its vector\n",
    "    word = values[0]\n",
    "    coefs = np.asarray(values[1:])\n",
    "    embeddings_index[word] = coefs\n",
    "\n",
    "f.close()"
   ]
  },
  {
   "cell_type": "markdown",
   "metadata": {
    "id": "c1R_Cc1yyO7L"
   },
   "source": [
    "**Tokenization** is a way of separating a piece of text into smaller units called tokens. Here, tokens can be either words, characters, or subwords. \n",
    "\n",
    "**Padding** All the neural networks require to have inputs that have the same shape and size. However, when we pre-process and use the texts as inputs for our model e.g. LSTM, not all the sentences have the same length. In other words, naturally, some of the sentences are longer or shorter. We need to have the inputs with the same size, this is where the padding is necessary.\n",
    "\n",
    "**Splitting the data** "
   ]
  },
  {
   "cell_type": "code",
   "execution_count": null,
   "metadata": {
    "colab": {
     "base_uri": "https://localhost:8080/"
    },
    "id": "r-KlvIEHyO7M",
    "outputId": "294a91f7-bff6-46ef-9626-4a5e28bbc34d"
   },
   "outputs": [
    {
     "name": "stdout",
     "output_type": "stream",
     "text": [
      "(50000, 100)\n",
      "(50000,)\n",
      "40000\n"
     ]
    }
   ],
   "source": [
    "from tensorflow.python.keras.preprocessing.text import Tokenizer\n",
    "from tensorflow.python.keras.preprocessing.sequence import pad_sequences\n",
    "import numpy as np\n",
    "\n",
    "VALIDATION_SPLIT = 0.2\n",
    "\n",
    "tokenizer_obj = Tokenizer()\n",
    "tokenizer_obj.fit_on_texts(reviews_lines)\n",
    "\n",
    "sequences = tokenizer_obj.texts_to_sequences(reviews_lines)\n",
    "\n",
    "max_length = 100 # max length of sequence, otherwise pad it\n",
    "word_index = tokenizer_obj.word_index\n",
    "\n",
    "review_pad = pad_sequences(sequences, maxlen=max_length)\n",
    "sentiment = df['sentiment'].values\n",
    "\n",
    "print(review_pad.shape)\n",
    "print(sentiment.shape)\n",
    "\n",
    "# shuffle the indices:\n",
    "indices = np.arange(review_pad.shape[0])\n",
    "np.random.shuffle(indices)\n",
    "review_pad = review_pad[indices]\n",
    "sentiment = sentiment[indices]\n",
    "\n",
    "num_validation_samples = int(VALIDATION_SPLIT*review_pad.shape[0])\n",
    "\n",
    "X_val_pad = review_pad[:num_validation_samples]\n",
    "y_val = sentiment[:num_validation_samples]\n",
    "X_train_pad = review_pad[num_validation_samples:]\n",
    "y_train = sentiment[num_validation_samples:]\n",
    "\n",
    "print(X_train_pad.shape[0])"
   ]
  },
  {
   "cell_type": "markdown",
   "metadata": {
    "id": "tfnQwiVAyO7M"
   },
   "source": [
    "## Splitting Train data further into Train & Test Sets"
   ]
  },
  {
   "cell_type": "code",
   "execution_count": null,
   "metadata": {
    "id": "mCHUR4Y9yO7M"
   },
   "outputs": [],
   "source": [
    "TEST_SPLIT = 0.1\n",
    "\n",
    "num_test_samples = int(TEST_SPLIT * X_train_pad.shape[0])\n",
    "X_test_pad = X_train_pad[:num_test_samples]\n",
    "y_test = y_train[:num_test_samples]\n",
    "X_train_pad = X_train_pad[num_test_samples:]\n",
    "y_train = y_train[num_test_samples:]"
   ]
  },
  {
   "cell_type": "code",
   "execution_count": null,
   "metadata": {
    "colab": {
     "base_uri": "https://localhost:8080/"
    },
    "id": "QajAPkY3yO7M",
    "outputId": "a7b862d8-cc8a-42ff-c471-95dc39f7815f"
   },
   "outputs": [
    {
     "name": "stdout",
     "output_type": "stream",
     "text": [
      "(36000, 100)\n",
      "(36000,)\n",
      "(10000, 100)\n",
      "(10000,)\n",
      "(4000, 100)\n",
      "(4000,)\n"
     ]
    }
   ],
   "source": [
    "print(X_train_pad.shape)\n",
    "print(y_train.shape)\n",
    "\n",
    "print(X_val_pad.shape)\n",
    "print(y_val.shape)\n",
    "\n",
    "print(X_test_pad.shape)\n",
    "print(y_test.shape)"
   ]
  },
  {
   "cell_type": "markdown",
   "metadata": {
    "id": "pzVpjQleyO7N"
   },
   "source": [
    "## Creating an Embedding Matrix"
   ]
  },
  {
   "cell_type": "code",
   "execution_count": null,
   "metadata": {
    "id": "_i4udOI7yO7N"
   },
   "outputs": [],
   "source": [
    "# our embeddings are in the dctionary format. We have to transform them into \n",
    "# matrix format executed by Keras\n",
    "\n",
    "EMBEDDING_DIM = 100\n",
    "num_words = len(word_index) +1\n",
    "\n",
    "embedding_matrix = np.zeros((num_words, EMBEDDING_DIM ))\n",
    "\n",
    "for word, i in word_index.items():\n",
    "    if i > num_words:\n",
    "        continue\n",
    "    embedding_vector = embedding_index.get(word)\n",
    "    if embedding_vector is not None:\n",
    "        embedding_matrix[i] = embedding_vector"
   ]
  },
  {
   "cell_type": "markdown",
   "metadata": {
    "id": "UImlDo2jyO7N"
   },
   "source": [
    "## Training \n",
    "\n",
    "Defining the Model\n",
    "\n",
    "In Keras, A **Sequential model** is appropriate for a plain stack of layers where each layer has exactly one input tensor and one output tensor.\n",
    "1. Load pre-trained word embeddings into an Embedding layer\n",
    "\n",
    "2. Adding LSTM Layer\n",
    "\n",
    "3. Adding Dense Layer\n",
    "\n",
    "**model.compile** used to Configures the model for training.\n",
    "\n",
    "\n",
    "**model.add()** function is used to add layers to our model."
   ]
  },
  {
   "cell_type": "code",
   "execution_count": null,
   "metadata": {
    "colab": {
     "base_uri": "https://localhost:8080/"
    },
    "id": "HcUjdHshyO7N",
    "outputId": "fa41d51b-973a-48bd-f07d-0ca7a85f0ae6"
   },
   "outputs": [
    {
     "name": "stdout",
     "output_type": "stream",
     "text": [
      "WARNING:tensorflow:Layer lstm_1 will not use cuDNN kernel since it doesn't meet the cuDNN kernel criteria. It will use generic GPU kernel as fallback when running on GPU\n",
      "summary of the model...\n",
      "Model: \"sequential_1\"\n",
      "_________________________________________________________________\n",
      "Layer (type)                 Output Shape              Param #   \n",
      "=================================================================\n",
      "embedding_1 (Embedding)      (None, 100, 100)          13415700  \n",
      "_________________________________________________________________\n",
      "lstm_1 (LSTM)                (None, 32)                17024     \n",
      "_________________________________________________________________\n",
      "dense_1 (Dense)              (None, 1)                 33        \n",
      "=================================================================\n",
      "Total params: 13,432,757\n",
      "Trainable params: 17,057\n",
      "Non-trainable params: 13,415,700\n",
      "_________________________________________________________________\n",
      "None\n"
     ]
    }
   ],
   "source": [
    "from keras.models import Sequential\n",
    "from keras.layers import Dense, Embedding, LSTM\n",
    "from keras.layers.embeddings import Embedding\n",
    "from keras.initializers import Constant\n",
    "\n",
    "model = Sequential()\n",
    "embedding_layer = Embedding(num_words, \n",
    "                            EMBEDDING_DIM, \n",
    "                            embeddings_initializer=Constant(embedding_matrix),\n",
    "                            input_length=max_length, \n",
    "                            trainable=False)\n",
    "model.add(embedding_layer)\n",
    "model.add(LSTM(units=32, dropout=0.2, recurrent_dropout=0.2))\n",
    "model.add(Dense(1, activation='sigmoid'))\n",
    "\n",
    "model.compile(loss='binary_crossentropy', optimizer='adam', metrics=['accuracy'])\n",
    "\n",
    "print(\"summary of the model...\")\n",
    "print(model.summary())\n"
   ]
  },
  {
   "cell_type": "markdown",
   "metadata": {
    "id": "0X-lX-bkyO7N"
   },
   "source": [
    "## Training the Model\n",
    "\n",
    "Use the .fit method.\n",
    "\n",
    "Assign the model.fit() method to a variable, which will store the Training, Validation Loss and Accuracy for each epoch. "
   ]
  },
  {
   "cell_type": "code",
   "execution_count": null,
   "metadata": {
    "colab": {
     "base_uri": "https://localhost:8080/"
    },
    "id": "ux7BtSmXyO7O",
    "outputId": "3d9813dc-260b-469a-d5a2-4985b234e195"
   },
   "outputs": [
    {
     "name": "stdout",
     "output_type": "stream",
     "text": [
      "Epoch 1/10\n",
      "282/282 - 86s - loss: 0.6932 - accuracy: 0.5015 - val_loss: 0.6932 - val_accuracy: 0.5021\n",
      "Epoch 2/10\n",
      "282/282 - 83s - loss: 0.6932 - accuracy: 0.5040 - val_loss: 0.6931 - val_accuracy: 0.5021\n",
      "Epoch 3/10\n",
      "282/282 - 82s - loss: 0.6932 - accuracy: 0.4991 - val_loss: 0.6932 - val_accuracy: 0.5021\n",
      "Epoch 4/10\n",
      "282/282 - 83s - loss: 0.6932 - accuracy: 0.4988 - val_loss: 0.6932 - val_accuracy: 0.5021\n",
      "Epoch 5/10\n",
      "282/282 - 83s - loss: 0.6932 - accuracy: 0.4991 - val_loss: 0.6931 - val_accuracy: 0.5021\n",
      "Epoch 6/10\n",
      "282/282 - 82s - loss: 0.6932 - accuracy: 0.5000 - val_loss: 0.6931 - val_accuracy: 0.5021\n",
      "Epoch 7/10\n",
      "282/282 - 84s - loss: 0.6932 - accuracy: 0.4990 - val_loss: 0.6931 - val_accuracy: 0.5021\n",
      "Epoch 8/10\n",
      "282/282 - 83s - loss: 0.6931 - accuracy: 0.5040 - val_loss: 0.6932 - val_accuracy: 0.5021\n",
      "Epoch 9/10\n",
      "282/282 - 82s - loss: 0.6932 - accuracy: 0.4990 - val_loss: 0.6931 - val_accuracy: 0.4979\n",
      "Epoch 10/10\n",
      "282/282 - 83s - loss: 0.6932 - accuracy: 0.4997 - val_loss: 0.6932 - val_accuracy: 0.4979\n"
     ]
    }
   ],
   "source": [
    "history = model.fit(X_train_pad, y_train, batch_size=128, epochs= 10, validation_data=(X_val_pad, y_val), verbose=2)"
   ]
  },
  {
   "cell_type": "markdown",
   "metadata": {
    "id": "Y7-ThjjAyO7O"
   },
   "source": [
    "## Evaluating the Model on Test Set\n",
    "\n",
    "**Score** is the evaluation of the loss function for a given input.\n",
    "\n",
    "**Accuracy** How accurate your model's prediction is compared to the true data.\n"
   ]
  },
  {
   "cell_type": "markdown",
   "metadata": {
    "id": "2aJ_mzYnZDDF"
   },
   "source": []
  },
  {
   "cell_type": "code",
   "execution_count": null,
   "metadata": {
    "colab": {
     "base_uri": "https://localhost:8080/"
    },
    "id": "x-tBqEnUyO7O",
    "outputId": "c1c6bc5e-f8c3-466d-bfb3-175138a4869d"
   },
   "outputs": [
    {
     "name": "stdout",
     "output_type": "stream",
     "text": [
      "32/32 [==============================] - 1s 27ms/step - loss: 0.6931 - accuracy: 0.5045\n",
      "Test score: 0.6931068897247314\n",
      "Test accuracy: 0.5044999718666077\n"
     ]
    }
   ],
   "source": [
    "score , acc = model.evaluate(X_test_pad, y_test, batch_size = 128)\n",
    "print('Test score:', score)\n",
    "print('Test accuracy:', acc)"
   ]
  },
  {
   "cell_type": "markdown",
   "metadata": {
    "id": "ML6vB56cyO7O"
   },
   "source": [
    "## Plotting the Accuracy and Loss "
   ]
  },
  {
   "cell_type": "code",
   "execution_count": null,
   "metadata": {
    "colab": {
     "base_uri": "https://localhost:8080/",
     "height": 329
    },
    "id": "6xE-nWNFyO7O",
    "outputId": "ba75344b-175e-49ca-bc83-88bb50b85f69"
   },
   "outputs": [
    {
     "name": "stdout",
     "output_type": "stream",
     "text": [
      "dict_keys(['loss', 'accuracy', 'val_loss', 'val_accuracy'])\n"
     ]
    },
    {
     "data": {
      "text/plain": [
       "<matplotlib.legend.Legend at 0x7f4db1a2a310>"
      ]
     },
     "execution_count": 55,
     "metadata": {
      "tags": []
     },
     "output_type": "execute_result"
    },
    {
     "data": {
      "image/png": "[encoded data removed]",
      "text/plain": [
       "<Figure size 432x288 with 1 Axes>"
      ]
     },
     "metadata": {
      "needs_background": "light",
      "tags": []
     },
     "output_type": "display_data"
    }
   ],
   "source": [
    "print(history.history.keys())\n",
    "\n",
    "plt.plot(history.history['accuracy'])\n",
    "plt.plot(history.history['val_accuracy'])\n",
    "plt.title('model_accuracy')\n",
    "plt.ylabel('accuracy')\n",
    "plt.xlabel('epoch')\n",
    "plt.legend(['train', 'validation'], loc = 'upper left')\n",
    "\n",
    "#loss\n",
    "plt.plot(history.history['loss'])\n",
    "plt.plot(history.history['val_loss'])\n",
    "plt.title('model_loss')\n",
    "plt.ylabel('loss')\n",
    "plt.xlabel('epoch')\n",
    "plt.legend(['train', 'validation'], loc = 'upper left')"
   ]
  },
  {
   "cell_type": "markdown",
   "metadata": {
    "id": "IgZBWVIQyO7P"
   },
   "source": [
    "## Testing the Model on Sample data\n"
   ]
  },
  {
   "cell_type": "code",
   "execution_count": null,
   "metadata": {
    "colab": {
     "base_uri": "https://localhost:8080/"
    },
    "id": "zcibAnlKyO7P",
    "outputId": "ebf60bca-a61d-4284-ccaf-b0b8769fd24e"
   },
   "outputs": [
    {
     "data": {
      "text/plain": [
       "array([[0.49586385],\n",
       "       [0.49586385]], dtype=float32)"
      ]
     },
     "execution_count": 61,
     "metadata": {
      "tags": []
     },
     "output_type": "execute_result"
    }
   ],
   "source": [
    "test_sample_1 = \"The movie was fantastic! I like it!\"\n",
    "test_sample_2 = \"Not a great movie, it was really bad...\"\n",
    "\n",
    "test_samples = [test_sample_1, test_sample_2]\n",
    "test_samples_tokens = tokenizer_obj.texts_to_sequences(test_samples)\n",
    "test_samples_tokens_pad = pad_sequences(test_samples_tokens, maxlen = 100)\n",
    "\n",
    "model.predict(x=test_samples_tokens_pad)"
   ]
  }
 ],
 "metadata": {
  "accelerator": "GPU",
  "colab": {
   "name": "Copy of Text Classification Using Word2Vec and LSTMs on Keras.ipynb",
   "provenance": [],
   "toc_visible": true
  },
  "kernelspec": {
   "display_name": "Python 3",
   "language": "python",
   "name": "python3"
  },
  "language_info": {
   "codemirror_mode": {
    "name": "ipython",
    "version": 3
   },
   "file_extension": ".py",
   "mimetype": "text/x-python",
   "name": "python",
   "nbconvert_exporter": "python",
   "pygments_lexer": "ipython3",
   "version": "3.7.6"
  }
 },
 "nbformat": 4,
 "nbformat_minor": 1
}
